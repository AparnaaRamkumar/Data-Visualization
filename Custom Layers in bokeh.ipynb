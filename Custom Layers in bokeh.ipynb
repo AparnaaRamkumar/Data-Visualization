{
 "cells": [
  {
   "cell_type": "code",
   "execution_count": 2,
   "id": "168293c8",
   "metadata": {},
   "outputs": [],
   "source": [
    "from bokeh.plotting import figure, show\n",
    "from bokeh.models import ColumnDataSource, LinearColorMapper, ColorBar\n",
    "from bokeh.transform import linear_cmap\n",
    "from bokeh.palettes import RdBu as palette\n",
    "from bokeh.palettes import Viridis\n",
    "import numpy as np\n",
    "\n",
    "# Generate some sample data\n",
    "np.random.seed(0)\n",
    "x = np.random.randn(100)\n",
    "y = np.random.randn(100)\n",
    "size = np.random.randint(5, 15, 100)\n",
    "color = np.random.rand(100)\n",
    "labels = ['Point ' + str(i) for i in range(100)]\n",
    "\n",
    "# Create a ColumnDataSource\n",
    "source = ColumnDataSource(data=dict(x=x, y=y, size=size, color=color, labels=labels))\n",
    "\n",
    "# Create a color mapper\n",
    "color_mapper = LinearColorMapper(palette=Viridis[256],low=min(color), high=max(color))\n",
    "\n",
    "# Create a figure\n",
    "p = figure()\n",
    "\n",
    "# Add a scatter plot layer\n",
    "p.scatter('x', 'y', size='size', color={'field': 'color', 'transform': color_mapper}, alpha=0.6, source=source)\n",
    "\n",
    "\n",
    "# Add a color bar as custom layer\n",
    "color_bar = ColorBar(color_mapper=color_mapper, width=8, location=(0,0))\n",
    "p.add_layout(color_bar, 'right')\n",
    "\n",
    "# Customize plot properties\n",
    "p.title.text = \"Scatter Plot with Custom Layers\"\n",
    "p.xaxis.axis_label = \"X-axis\"\n",
    "p.yaxis.axis_label = \"Y-axis\"\n",
    "\n",
    "# Show the plot\n",
    "show(p)\n"
   ]
  },
  {
   "cell_type": "code",
   "execution_count": null,
   "id": "a71d7d04",
   "metadata": {},
   "outputs": [],
   "source": []
  }
 ],
 "metadata": {
  "kernelspec": {
   "display_name": "Python 3 (ipykernel)",
   "language": "python",
   "name": "python3"
  },
  "language_info": {
   "codemirror_mode": {
    "name": "ipython",
    "version": 3
   },
   "file_extension": ".py",
   "mimetype": "text/x-python",
   "name": "python",
   "nbconvert_exporter": "python",
   "pygments_lexer": "ipython3",
   "version": "3.10.9"
  }
 },
 "nbformat": 4,
 "nbformat_minor": 5
}
